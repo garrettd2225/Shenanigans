{
 "cells": [
  {
   "cell_type": "markdown",
   "metadata": {},
   "source": [
    "# The Trials and Tribulations of Whatever I'm trying to do\n",
    "#### \"Coarse-graining\" gets thrown around a lot I guess\n",
    "\n",
    "\n",
    "Garrett Davidson ~~ 5/16/2017"
   ]
  },
  {
   "cell_type": "markdown",
   "metadata": {
    "collapsed": true
   },
   "source": [
    "### Background \n",
    "\n",
    "Recently, scientists at PNNL have developed a new class of fully synthetic sequence defined polymers based on nucleophilic aromatic substitution chemistry of triazine reagents.  \n",
    "\n",
    "<h3 align=\"center\">Triazine monomers</h3>\n",
    "![Triazine](./Picture2.png)\n",
    "\n",
    "So far, simulations at PNNL have examined single molecules or pairs of molecules in the simulation box, or, at most, pairs of dimers in the box. While these reveal motifs of noncovalent interactions, and the possibility of forming nanorods from folded monomers or paired molecules in dimers, they do not reveal ensemble behavior.  \n",
    "\n",
    "\n",
    "### Goal\n",
    "\n",
    "- To simulate the ensemble behavior of all possible oligomers within the set that contains up to four different side chains on oligomers that are ideally tetramers. \n",
    "- The ensemble could be up to 300 oligomers in a box. \n",
    "- To make simulations computationally feasible, I will develop a coarse graining method for triazine based polymers.\n",
    "\n",
    "\n",
    "### What have I even done?\n",
    "Started out by running through one coarse graining method tutorial, namely the MARTINI force field (http://www.cgmartini.nl/index.php/tutorials-general-introduction/martini-tutorials-polymers)\n",
    "\n",
    "I began with a fully atomistic model of 200 PEG 9mers\n",
    "\n",
    "<h3 align=\"center\">PEG in Box</h3>\n",
    "![PEGs](./Picture3.png)\n",
    "\n",
    "The MARTINI package already comes with predefined beads that I need to use (http://pubs.acs.org/doi/pdf/10.1021/jp071097f) with the nonbonded interactions between the beads already defined. \n",
    "\n",
    "- My goal: To match up the bonded parameters (bond lengths, angles, dihedrals and corresponding force constants) with atomistic. \n",
    "\n",
    "<h3 align=\"center\">PEG coarse grain</h3>\n",
    "![PEG CG](./Picture4.png)\n",
    "\n",
    "I measured all the bond lengths, angles and dihedral distributions of the CGed atomistic trajectory. Then I started with an equilibrated CG PEG structure and ran a simulation on the structure with guess for each of the parameters.\n",
    "\n",
    "I achieved decent results.\n",
    "<h3 align=\"center\"></h3>\n",
    "![Params](./Picture5.png)\n",
    "\n"
   ]
  },
  {
   "cell_type": "markdown",
   "metadata": {
    "collapsed": true
   },
   "source": [
    "## Please hold your applause until the end"
   ]
  },
  {
   "cell_type": "markdown",
   "metadata": {
    "collapsed": true
   },
   "source": [
    "## Back to Triazine shenanigans-- Bonded Parameters\n",
    "\n",
    "- To be honest, I didn't want to do this again for the triazine oligomers.\n",
    "\n",
    "- Instead, just going to fit the bonds and angles to gaussians and use an inverse boltzmann method (below)\n",
    "\n",
    "- Then, using metadynamics to get nonbonded parameters\n",
    "\n",
    "\n",
    "\n",
    "<h3 align=\"center\">My 2mer</h3>\n",
    "![Params](./Picture12.png)\n",
    "\n",
    "<h3 align=\"center\"></h3>\n",
    "![Params](./Picture6.png)\n"
   ]
  },
  {
   "cell_type": "markdown",
   "metadata": {
    "collapsed": true
   },
   "source": [
    "So then I measured the bond lengths and angles of each of the bond pairs and angle triplets  \n",
    "- _hoped_  and _prayed_ they were gaussian.\n",
    "\n",
    "<h3 align=\"center\">An Example</h3>\n",
    "![Params](./Picture7.png)\n",
    "\n",
    "### Obviously not gaussian :(\n",
    "\n",
    "## I soon figured out that some of my bead assignments were incorrect. Then I changed some things...\n",
    "<h3 align=\"center\">New Bead Assignments</h3>\n",
    "![Params](./Picture8.png)\n",
    "\n",
    "\n"
   ]
  },
  {
   "cell_type": "markdown",
   "metadata": {
    "collapsed": true
   },
   "source": [
    "### Inverse boltzmann\n",
    "- begin with bond length partition function\n",
    "\n",
    "    $$P(R) \\propto e^{-V(R) \\beta}$$\n",
    "\n",
    "- bond lengths act as a spring\n",
    "$$ V=\\frac{1}{2} k (R-R_{0})^{2}$$\n",
    "\n",
    "$$ P(R) \\propto e^{-\\frac{1}{2} k (R-R_{0})^{2} \\beta}$$\n",
    "\n",
    "\n",
    "- Can be modeled by Gaussian function\n",
    "\n",
    "$$ P(R) \\propto e^{-\\frac{(R-R_{0})^{2}}{2\\sigma^2} }$$\n",
    "\n",
    "$$e^{-\\frac{1}{2} k (R-R_{0})^{2} \\beta} \\propto e^{-\\frac{(R-R_{0})^{2}}{2\\sigma^2} }$$\n",
    "\n",
    "- simplifies to:\n",
    "$$ k = \\frac{k_{B} T}{\\sigma^2}$$\n",
    "\n",
    "### Finally, for all graphs but one:\n",
    "<h3 align=\"center\"></h3>\n",
    "![Params](./Picture9.png)\n",
    "<h3 align=\"center\"></h3>\n",
    "![Params](./Picture10.png)\n",
    "\n",
    "<h3 align=\"center\">:(:(:( They're still incorrect</h3>\n",
    "![Params](./Picture11.png)\n",
    "\n",
    "\n",
    "## Further work on bonded parameters\n",
    "In order to get these results, I had to play around with the bead assignments but the way I did it isn't exactly the most kosher way; I just kind of hid one of the problems. (I still can't fix that double peak above)\n",
    "\n",
    "My hypothesis for why this happens is that **the ring** throws these double peaks at me.\n",
    "- Since I map the beads using their center of masses, the rings becomes asymmetrical and throws off the angle calculations (the last double peak and how I got rid of one of the other double peaks)\n",
    "\n",
    "   -- Name each ring bead its own\n",
    "   \n",
    "   -- not use the center of masses of the ring beads (rather each carbon)\n",
    "   \n",
    "   -- Make the ring one huge bead ******\n",
    "   \n",
    "   \n",
    "### Making ring one bead\n",
    "\n",
    "Solved that problem... but another popped up :(\n",
    "\n",
    "<h3 align=\"center\"></h3>\n",
    "![Params](./Picture14.png)  \n",
    "\n",
    "Working on simulating just a monomer in a box and retrieving that one quality"
   ]
  },
  {
   "cell_type": "markdown",
   "metadata": {
    "collapsed": true
   },
   "source": [
    "## Non bonded Parameters\n",
    "\n",
    "Ran metadynamics simulation of 2 of these monomers in a box. \n",
    "- sampled the distance between the center of mass of the monomers.\n",
    "- simulation ran in NVT for 242 ns and pulled and pushed the monmers apart many times.\n",
    "<h3 align=\"center\"></h3>\n",
    "![Params](./Picture13.png)\n",
    "\n",
    "Minimum at 4 angstroms with a depth of about 31 kJ/mol\n",
    "\n",
    "From this information, we can recalculate the same graph for different bead-bead combinations"
   ]
  },
  {
   "cell_type": "code",
   "execution_count": null,
   "metadata": {
    "collapsed": true
   },
   "outputs": [],
   "source": []
  },
  {
   "cell_type": "code",
   "execution_count": null,
   "metadata": {
    "collapsed": true
   },
   "outputs": [],
   "source": []
  },
  {
   "cell_type": "code",
   "execution_count": null,
   "metadata": {
    "collapsed": true
   },
   "outputs": [],
   "source": []
  }
 ],
 "metadata": {
  "anaconda-cloud": {},
  "kernelspec": {
   "display_name": "Python 3",
   "language": "python",
   "name": "python3"
  },
  "language_info": {
   "codemirror_mode": {
    "name": "ipython",
    "version": 3
   },
   "file_extension": ".py",
   "mimetype": "text/x-python",
   "name": "python",
   "nbconvert_exporter": "python",
   "pygments_lexer": "ipython3",
   "version": "3.5.2"
  }
 },
 "nbformat": 4,
 "nbformat_minor": 2
}
